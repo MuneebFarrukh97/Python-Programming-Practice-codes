{
 "cells": [
  {
   "cell_type": "code",
   "execution_count": 10,
   "metadata": {},
   "outputs": [
    {
     "name": "stdout",
     "output_type": "stream",
     "text": [
      "['Muneeb', 'Farrukh', 1, 9, 'Nazir']\n"
     ]
    }
   ],
   "source": [
    "arr = [\"Muneeb\" , \"Farrukh\" ,1 ,9,\"Nazir\"]\n",
    "print(arr)"
   ]
  },
  {
   "cell_type": "code",
   "execution_count": 15,
   "metadata": {},
   "outputs": [
    {
     "name": "stdout",
     "output_type": "stream",
     "text": [
      "['Muneeb', 'Farrukh', 1, 9, 'Nazir', 'Fal', False, 'False']\n"
     ]
    }
   ],
   "source": [
    "arr.append(\"False\")\n",
    "print(arr)"
   ]
  },
  {
   "cell_type": "code",
   "execution_count": 16,
   "metadata": {},
   "outputs": [
    {
     "name": "stdout",
     "output_type": "stream",
     "text": [
      "['Muneeb', 'Farrukh', 1, 9, 'Nazir', 'Fal', False, 'False', 'Ali', 'Haider']\n"
     ]
    }
   ],
   "source": [
    "arr1 = arr + [\"Ali\" ,\"Haider\",]\n",
    "print(arr1)"
   ]
  },
  {
   "cell_type": "code",
   "execution_count": 17,
   "metadata": {},
   "outputs": [
    {
     "data": {
      "text/plain": [
       "['Muneeb', 'Farrukh', 1, 9, 'Nazir', 'Fal', False, 'False']"
      ]
     },
     "execution_count": 17,
     "metadata": {},
     "output_type": "execute_result"
    }
   ],
   "source": [
    "arr"
   ]
  },
  {
   "cell_type": "code",
   "execution_count": 19,
   "metadata": {},
   "outputs": [
    {
     "name": "stdout",
     "output_type": "stream",
     "text": [
      "['Muneeb', 'Farrukh', 1, 'What', 9, 'Nazir', 'Fal', False, 'False']\n"
     ]
    }
   ],
   "source": [
    "arr.insert(3,\"What\")\n",
    "print(arr)"
   ]
  },
  {
   "cell_type": "code",
   "execution_count": 24,
   "metadata": {},
   "outputs": [
    {
     "data": {
      "text/plain": [
       "['Muneeb', 'Farrukh', 1, 9, 'Nazir', 'niece', False, 'False', 'Ali', 'Haider']"
      ]
     },
     "execution_count": 24,
     "metadata": {},
     "output_type": "execute_result"
    }
   ],
   "source": [
    "arr1[5] = 'niece'\n",
    "arr1"
   ]
  },
  {
   "cell_type": "code",
   "execution_count": 36,
   "metadata": {},
   "outputs": [
    {
     "name": "stdout",
     "output_type": "stream",
     "text": [
      "Enter value 115\n",
      "Enter value 23\n",
      "Enter operator+\n",
      "18 answer\n"
     ]
    }
   ],
   "source": [
    "#Calculator\n",
    "\n",
    "val1 = int(input('Enter value 1'))\n",
    "val2 = int(input('Enter value 2'))\n",
    "operator = input('Enter operator')\n",
    "\n",
    "if operator == '+':\n",
    "    val = val1 + val2\n",
    "    print(val,\"answer\")\n",
    "elif operator == '-':\n",
    "    val = val1 - val2\n",
    "    print(val,\"answer\")\n",
    "elif operator == '*':\n",
    "    val = val1 * val2\n",
    "    print(val,\"answer\")\n",
    "elif operator == '/':\n",
    "    val = val1 // val2\n",
    "    print(val,\"answer\")\n",
    "else:\n",
    "    print(\"you give wrong opertor\")\n",
    "    "
   ]
  },
  {
   "cell_type": "code",
   "execution_count": 46,
   "metadata": {},
   "outputs": [
    {
     "name": "stdout",
     "output_type": "stream",
     "text": [
      "enter eng marks out of 10065\n",
      "enter math marks out of 10095\n",
      "enter phy marks out of 10085\n",
      "enter isl marks out of 5040\n",
      "enter urdu marks out of 10065\n",
      "77.77777777777779 %\n"
     ]
    }
   ],
   "source": [
    "#Marksheet\n",
    "\n",
    "eng = int(input('enter eng marks out of 100'))\n",
    "math = int(input('enter math marks out of 100'))\n",
    "phy = int(input('enter phy marks out of 100'))\n",
    "isl = int(input('enter isl marks out of 50'))\n",
    "urdu = int(input('enter urdu marks out of 100'))\n",
    "tot_marks = eng + math + phy + isl + urdu\n",
    "per = (tot_marks/450) * 100\n",
    "print(per,\"%\")"
   ]
  },
  {
   "cell_type": "code",
   "execution_count": 48,
   "metadata": {},
   "outputs": [
    {
     "name": "stdout",
     "output_type": "stream",
     "text": [
      "Grade A Good,but you can make it even more high\n"
     ]
    }
   ],
   "source": [
    "#Grade System\n",
    "#THe result depends upon 41 \n",
    "\n",
    "per\n",
    "if per >=90 and per <= 100:\n",
    "    print(\"Grade A++\" ,\n",
    "         \"Excellent work\")\n",
    "elif per >=80 and per <=90:\n",
    "    print(\"Grade A+\" ,\n",
    "         \"Nice,You work hard\")\n",
    "elif per >=70 and per <= 80:\n",
    "    print(\"Grade A\" ,\n",
    "         \"Good,but you can make it even more high\")\n",
    "elif per >=60 and per <= 70:\n",
    "    print(\"Grade B\" ,\n",
    "         \"Study in a better way\")\n",
    "elif per >=50 and per <= 60:\n",
    "    print(\"Grade C\" ,\n",
    "         \"Not good\")\n",
    "elif per >=40 and per <= 50:\n",
    "    print(\"Grade D\" ,\n",
    "         \"Concentrate on your studies\")\n",
    "elif per >=33 and per <=40:\n",
    "    print(\"Grade E\" ,\n",
    "         \"If,you not workm hard you will fail\")\n",
    "elif per >=33 and per <= 0:\n",
    "    print(\"Fail\" ,\n",
    "         \"Poor work\")\n",
    "else:\n",
    "    print(\"you provide inncorrect information\")"
   ]
  },
  {
   "cell_type": "code",
   "execution_count": 9,
   "metadata": {},
   "outputs": [
    {
     "name": "stdout",
     "output_type": "stream",
     "text": [
      "['Muneeb', 'Farrukh', 1, 9, 'Nazir']\n"
     ]
    }
   ],
   "source": [
    "arr = [\"Muneeb\" , \"Farrukh\" ,1 ,9,\"Nazir\"]\n",
    "print(arr)"
   ]
  },
  {
   "cell_type": "code",
   "execution_count": 15,
   "metadata": {},
   "outputs": [
    {
     "name": "stdout",
     "output_type": "stream",
     "text": [
      "[1, 9, 'Nazir']\n"
     ]
    }
   ],
   "source": [
    "#Slicing of array\n",
    "\n",
    "arr1 = arr[2 : 7]\n",
    "print(arr1)"
   ]
  },
  {
   "cell_type": "code",
   "execution_count": 16,
   "metadata": {},
   "outputs": [
    {
     "name": "stdout",
     "output_type": "stream",
     "text": [
      "[1, 2, 3, 4, 5, 6]\n"
     ]
    }
   ],
   "source": [
    "arr2 = [1,2,3,4,5,6]\n",
    "print(arr2)"
   ]
  },
  {
   "cell_type": "code",
   "execution_count": 25,
   "metadata": {},
   "outputs": [
    {
     "name": "stdout",
     "output_type": "stream",
     "text": [
      "[1, 2, 3, 'Muneeb', 'Muneeb', 4, 5, 6]\n"
     ]
    }
   ],
   "source": [
    "#Insertation into array\n",
    "\n",
    "arr2.insert(3,\"Muneeb\")\n",
    "print(arr2)"
   ]
  },
  {
   "cell_type": "code",
   "execution_count": 26,
   "metadata": {},
   "outputs": [
    {
     "data": {
      "text/plain": [
       "[1, 2, 3, 'Muneeb', 'Muneeb', 4, 5, 6]"
      ]
     },
     "execution_count": 26,
     "metadata": {},
     "output_type": "execute_result"
    }
   ],
   "source": [
    "arr2"
   ]
  },
  {
   "cell_type": "code",
   "execution_count": 27,
   "metadata": {},
   "outputs": [
    {
     "name": "stdout",
     "output_type": "stream",
     "text": [
      "[1, 2, 'Muneeb', 'Muneeb', 4, 5, 6]\n"
     ]
    }
   ],
   "source": [
    "del arr2[2]\n",
    "print(arr2)"
   ]
  },
  {
   "cell_type": "code",
   "execution_count": 1,
   "metadata": {},
   "outputs": [
    {
     "name": "stdout",
     "output_type": "stream",
     "text": [
      "['muneeb', 'Linux', 2, False]\n"
     ]
    }
   ],
   "source": [
    "ary = [\"muneeb\" ,\"Linux\",2,False]\n",
    "print(ary)"
   ]
  },
  {
   "cell_type": "code",
   "execution_count": 2,
   "metadata": {},
   "outputs": [
    {
     "data": {
      "text/plain": [
       "['muneeb', 'Linux', 'OS', 2, False]"
      ]
     },
     "execution_count": 2,
     "metadata": {},
     "output_type": "execute_result"
    }
   ],
   "source": [
    "ary.insert(2,\"OS\")\n",
    "ary"
   ]
  },
  {
   "cell_type": "code",
   "execution_count": 5,
   "metadata": {},
   "outputs": [
    {
     "data": {
      "text/plain": [
       "['Linux', 'OS', 2, False]"
      ]
     },
     "execution_count": 5,
     "metadata": {},
     "output_type": "execute_result"
    }
   ],
   "source": [
    "ary.remove(\"muneeb\")\n",
    "ary"
   ]
  },
  {
   "cell_type": "code",
   "execution_count": 8,
   "metadata": {},
   "outputs": [
    {
     "data": {
      "text/plain": [
       "['Linux', 'OS', False]"
      ]
     },
     "execution_count": 8,
     "metadata": {},
     "output_type": "execute_result"
    }
   ],
   "source": [
    "del ary[2] \n",
    "ary"
   ]
  },
  {
   "cell_type": "code",
   "execution_count": 9,
   "metadata": {},
   "outputs": [
    {
     "data": {
      "text/plain": [
       "['Linux', 'OS', False, 69, True, 'Hyper']"
      ]
     },
     "execution_count": 9,
     "metadata": {},
     "output_type": "execute_result"
    }
   ],
   "source": [
    "ary1 = ary + [69,True,\"Hyper\"]\n",
    "ary1"
   ]
  },
  {
   "cell_type": "code",
   "execution_count": 10,
   "metadata": {},
   "outputs": [
    {
     "data": {
      "text/plain": [
       "['Linux', 'OS', False, 69, True, 'Hyper', 'Right']"
      ]
     },
     "execution_count": 10,
     "metadata": {},
     "output_type": "execute_result"
    }
   ],
   "source": [
    "ary1.append(\"Right\")\n",
    "ary1"
   ]
  },
  {
   "cell_type": "code",
   "execution_count": 19,
   "metadata": {},
   "outputs": [
    {
     "data": {
      "text/plain": [
       "['OS', False, 69, True, 'Hyper']"
      ]
     },
     "execution_count": 19,
     "metadata": {},
     "output_type": "execute_result"
    }
   ],
   "source": [
    "ary2 = ary1[1 : 6]\n",
    "ary2"
   ]
  },
  {
   "cell_type": "code",
   "execution_count": 20,
   "metadata": {},
   "outputs": [
    {
     "name": "stdout",
     "output_type": "stream",
     "text": [
      "Enter 1 value65\n",
      "Enter 2 value65\n",
      "Enter 3 value32\n",
      "Enter First Operator/\n",
      "Enter Second Operator/\n",
      "0.03125\n"
     ]
    }
   ],
   "source": [
    "val1 = int(input(\"Enter 1 value\"))\n",
    "val2 = int(input(\"Enter 2 value\"))\n",
    "val3 = int(input(\"Enter 3 value\"))\n",
    "opertor1 = input(\"Enter First Operator\")\n",
    "opertor2 = input(\"Enter Second Operator\")\n",
    "\n",
    "if opertor1 == \"+\" and opertor2 == \"+\":\n",
    "    val = (val1 + val2) + val3\n",
    "    print(val)\n",
    "elif opertor1 == \"+\" and opertor2 == \"-\":\n",
    "    val = (val1 + val2) - val3\n",
    "    print(val)\n",
    "elif opertor1 == \"+\" and opertor2 == \"*\":\n",
    "    val = (val1 + val2) * val3\n",
    "    print(val)\n",
    "elif opertor1 == \"+\" and opertor2 == \"/\":\n",
    "    val = (val1 + val2) / val3\n",
    "    print(val)\n",
    "elif opertor1 == \"-\" and opertor2 == \"+\":\n",
    "    val = (val1 - val2) + val3\n",
    "    print(val)\n",
    "elif opertor1 == \"-\" and opertor2 == \"-\":\n",
    "    val = (val1 - val2) - val3\n",
    "    print(val)\n",
    "elif opertor1 == \"-\" and opertor2 == \"*\":\n",
    "    val = (val1 - val2) * val3\n",
    "    print(val)\n",
    "elif opertor1 == \"-\" and opertor2 == \"/\":\n",
    "    val = (val1 - val2) / val3\n",
    "    print(val)\n",
    "elif opertor1 == \"*\" and opertor2 == \"+\":\n",
    "    val = (val1 * val2) + val3\n",
    "    print(val)\n",
    "elif opertor1 == \"*\" and opertor2 == \"-\":\n",
    "    val = (val1 * val2) - val3\n",
    "    print(val)\n",
    "elif opertor1 == \"*\" and opertor2 == \"*\":\n",
    "    val = (val1 * val2) * val3\n",
    "    print(val)\n",
    "elif opertor1 == \"*\" and opertor2 == \"/\":\n",
    "    val = (val1 * val2) / val3\n",
    "    print(val)\n",
    "elif opertor1 == \"/\" and opertor2 == \"+\":\n",
    "    val = (val1 / val2) + val3\n",
    "    print(val)\n",
    "elif opertor1 == \"/\" and opertor2 == \"-\":\n",
    "    val = (val1 / val2) - val3\n",
    "    print(val)\n",
    "elif opertor1 == \"/\" and opertor2 == \"*\":\n",
    "    val = (val1 / val2) * val3\n",
    "    print(val)\n",
    "elif opertor1 == \"/\" and opertor2 == \"/\":\n",
    "    val = (val1 / val2) / val3\n",
    "    print(val)\n",
    "else:\n",
    "    print(\"you have given unaccepted value\")\n",
    "    \n",
    "    "
   ]
  },
  {
   "cell_type": "code",
   "execution_count": null,
   "metadata": {},
   "outputs": [],
   "source": []
  }
 ],
 "metadata": {
  "kernelspec": {
   "display_name": "Python 3",
   "language": "python",
   "name": "python3"
  },
  "language_info": {
   "codemirror_mode": {
    "name": "ipython",
    "version": 3
   },
   "file_extension": ".py",
   "mimetype": "text/x-python",
   "name": "python",
   "nbconvert_exporter": "python",
   "pygments_lexer": "ipython3",
   "version": "3.7.4"
  }
 },
 "nbformat": 4,
 "nbformat_minor": 2
}
