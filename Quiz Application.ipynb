{
 "cells": [
  {
   "cell_type": "code",
   "execution_count": 11,
   "metadata": {},
   "outputs": [
    {
     "name": "stdout",
     "output_type": "stream",
     "text": [
      "1 : What is the result of 1 + 1\n",
      " Please write correct answer in input field \n",
      "a :2\n",
      "b :3\n",
      "c :4\n",
      "d :5\n",
      "2\n",
      "2 : What is the result of 1 + 4\n",
      " Please write correct answer in input field \n",
      "a :2\n",
      "b :3\n",
      "c :4\n",
      "d :5\n",
      "5\n",
      "3 : What is the result of 1 + 2\n",
      " Please write correct answer in input field \n",
      "a :2\n",
      "b :3\n",
      "c :4\n",
      "d :5\n",
      "3\n",
      "Your score is : 3\n"
     ]
    }
   ],
   "source": [
    "questions = [\n",
    "    {   \"S no\" : 1,\n",
    "        \"question\" : \"What is the result of 1 + 1\",\n",
    "        \"options\" : [\"2\",\"3\",\"4\",\"5\"],\n",
    "        \"answer\" : \"2\"\n",
    "    },\n",
    "    {   \"S no\" : 2,\n",
    "        \"question\" : \"What is the result of 1 + 4\",\n",
    "        \"options\" : [\"2\",\"3\",\"4\",\"5\"],\n",
    "        \"answer\" : \"5\"\n",
    "    },\n",
    "    {   \"S no\" : 3,\n",
    "        \"question\" : \"What is the result of 1 + 2\",\n",
    "        \"options\" : [\"2\",\"3\",\"4\",\"5\"],\n",
    "        \"answer\" : \"3\"\n",
    "    }\n",
    "]\n",
    "\n",
    "score = 0\n",
    "\n",
    "\n",
    "for marks in questions:\n",
    "    data = str(marks[\"S no\"]) + \" : \" + marks[\"question\"] + \"\\n Please write correct answer in input field \\n\" + \"a :\" + marks[\"options\"][0] + \"\\n\"  + \"b :\" + marks[\"options\"][1] + \"\\n\"  + \"c :\" + marks[\"options\"][2] + \"\\n\" + \"d :\" + marks[\"options\"][3] + \"\\n\"\n",
    "    answer = input(data)\n",
    "    if answer == marks[\"answer\"]:\n",
    "        score += 1\n",
    "        \n",
    "print(\"Your score is :\" + \" \" + str(score))"
   ]
  },
  {
   "cell_type": "code",
   "execution_count": null,
   "metadata": {},
   "outputs": [],
   "source": [
    "def addition():\n",
    "    num_1 = 10\n",
    "    num_2 = 20\n",
    "    total"
   ]
  }
 ],
 "metadata": {
  "kernelspec": {
   "display_name": "Python 3",
   "language": "python",
   "name": "python3"
  },
  "language_info": {
   "codemirror_mode": {
    "name": "ipython",
    "version": 3
   },
   "file_extension": ".py",
   "mimetype": "text/x-python",
   "name": "python",
   "nbconvert_exporter": "python",
   "pygments_lexer": "ipython3",
   "version": "3.7.4"
  }
 },
 "nbformat": 4,
 "nbformat_minor": 2
}
