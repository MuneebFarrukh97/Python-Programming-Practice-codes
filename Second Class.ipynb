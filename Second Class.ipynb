{
 "cells": [
  {
   "cell_type": "code",
   "execution_count": 11,
   "metadata": {},
   "outputs": [
    {
     "name": "stdout",
     "output_type": "stream",
     "text": [
      "What is your age?20\n",
      "you are not allowed to take admission\n"
     ]
    }
   ],
   "source": [
    "age = int(input(\"What is your age?\"))\n",
    "if age < 20 :\n",
    "    print(\"You are allowed to take admission\")\n",
    "else :\n",
    "    print(\"you are not allowed to take admission\")\n"
   ]
  },
  {
   "cell_type": "code",
   "execution_count": 13,
   "metadata": {},
   "outputs": [
    {
     "name": "stdout",
     "output_type": "stream",
     "text": [
      "Enter your percentage %86\n",
      "Grade A+\n"
     ]
    }
   ],
   "source": [
    "#My name is muneeb\n",
    "\n",
    "\n",
    "per = int(input(\"Enter your percentage %\"))\n",
    "if per >= 90 and per <=100:\n",
    "    print(\"Grade Golden\")\n",
    "elif per >= 80 and per <=90:\n",
    "    print (\"Grade A+\")\n",
    "elif per >= 70 and per <=80:\n",
    "    print(\"Grade A\")\n",
    "elif per >= 60 and per <=70:\n",
    "    print(\"Grade B\")\n",
    "elif per >= 50 and per <=60:\n",
    "    print(\"Grade C\")\n",
    "elif per >= 40 and per <=50:\n",
    "    print(\"Grade D\")\n",
    "elif per >= 33 and per <=40:\n",
    "    print(\"Grade E\")\n",
    "elif per >= 0 and per <33:\n",
    "    print(\"Grade Fail\")\n",
    "else:\n",
    "    print(\"You give inappropirate percentage %\")"
   ]
  },
  {
   "cell_type": "code",
   "execution_count": 16,
   "metadata": {},
   "outputs": [
    {
     "name": "stdout",
     "output_type": "stream",
     "text": [
      "Enter your Eng numbers out of 10001\n",
      "Enter your Urdu numbers out of 10025\n",
      "Enter your Isl numbers out of 50412\n",
      "Enter your Phy numbers out of 10012131\n",
      "Enter your Math numbers out of 1001212\n",
      "3062.444444444445\n"
     ]
    }
   ],
   "source": [
    "eng = int(input(\"Enter your Eng numbers out of 100\"))\n",
    "urdu = int(input(\"Enter your Urdu numbers out of 100\"))\n",
    "isl = int(input(\"Enter your Isl numbers out of 50\"))\n",
    "phy = int(input(\"Enter your Phy numbers out of 100\"))\n",
    "math = int(input(\"Enter your Math numbers out of 100\"))\n",
    "total_numbers = eng + urdu + isl + phy + math\n",
    "per = (total_numbers / 450) * 100\n",
    "print(per)"
   ]
  },
  {
   "cell_type": "code",
   "execution_count": null,
   "metadata": {},
   "outputs": [],
   "source": [
    "per\n",
    "if per >= 90 and per<= 100:\n",
    "    print(\"Grade A++\")\n",
    "elif per >= 80 and per < 90:\n",
    "    print(\"Grade A+\")\n",
    "elif per >= 70 and per < 80:\n",
    "    print(\"Grade A\")\n",
    "elif per >= 60 and per < 70:\n",
    "    print(\"Grade B\")\n",
    "elif per >= 50 and per < 60:\n",
    "    print(\"Grade C\")\n",
    "elif per >= 40 and per < 50:\n",
    "    print(\"Grade D\")\n",
    "elif per >= 33 and per < 40:\n",
    "    print(\"Grade E\")\n",
    "elif per >= 0 and per < 33:\n",
    "    print(\"Grade Fail\")\n",
    "else :\n",
    "    print(\"you have given innappropirate Numbers\")"
   ]
  },
  {
   "cell_type": "code",
   "execution_count": null,
   "metadata": {},
   "outputs": [],
   "source": []
  }
 ],
 "metadata": {
  "kernelspec": {
   "display_name": "Python 3",
   "language": "python",
   "name": "python3"
  },
  "language_info": {
   "codemirror_mode": {
    "name": "ipython",
    "version": 3
   },
   "file_extension": ".py",
   "mimetype": "text/x-python",
   "name": "python",
   "nbconvert_exporter": "python",
   "pygments_lexer": "ipython3",
   "version": "3.7.4"
  }
 },
 "nbformat": 4,
 "nbformat_minor": 2
}
