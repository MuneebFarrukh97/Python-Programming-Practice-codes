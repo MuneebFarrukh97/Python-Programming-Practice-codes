{
 "cells": [
  {
   "cell_type": "code",
   "execution_count": 7,
   "metadata": {},
   "outputs": [
    {
     "name": "stdout",
     "output_type": "stream",
     "text": [
      "Enter your total numbers out of 1100850\n",
      "77.27272727272727\n"
     ]
    }
   ],
   "source": [
    "tot = int(input(\"Enter your total numbers out of 1100\"))\n",
    "per = (tot/1100)*100\n",
    "print(per)"
   ]
  },
  {
   "cell_type": "code",
   "execution_count": 8,
   "metadata": {},
   "outputs": [
    {
     "name": "stdout",
     "output_type": "stream",
     "text": [
      "Enter your Eng numbers out of 10085\n",
      "Enter your Math numbers out of 10089\n",
      "Enter your Urdu numbers out of 10075\n",
      "Enter your Phy numbers out of 10085\n",
      "Enter your Isl numbers out of 10080\n",
      "82.8\n"
     ]
    }
   ],
   "source": [
    "Eng = int(input(\"Enter your Eng numbers out of 100\"))\n",
    "Math = int(input(\"Enter your Math numbers out of 100\"))\n",
    "Urdu = int(input(\"Enter your Urdu numbers out of 100\"))\n",
    "Phy = int(input(\"Enter your Phy numbers out of 100\"))\n",
    "Isl = int(input(\"Enter your Isl numbers out of 50\"))\n",
    "total_numbers = Eng + Math + Urdu + Phy + Isl\n",
    "per = (total_numbers/450) * 100\n",
    "print(per)\n"
   ]
  },
  {
   "cell_type": "code",
   "execution_count": 10,
   "metadata": {},
   "outputs": [
    {
     "name": "stdout",
     "output_type": "stream",
     "text": [
      "['Muneeb', 'Ali', 'Farrukh', 1, False]\n"
     ]
    }
   ],
   "source": [
    "arr = [\"Muneeb\" ,\"Ali\" ,\"Farrukh\",1,False,]\n",
    "print(arr)"
   ]
  },
  {
   "cell_type": "code",
   "execution_count": 15,
   "metadata": {},
   "outputs": [
    {
     "name": "stdout",
     "output_type": "stream",
     "text": [
      "Farrukh 1\n"
     ]
    }
   ],
   "source": [
    "print(arr[2],arr[3])"
   ]
  },
  {
   "cell_type": "code",
   "execution_count": 17,
   "metadata": {},
   "outputs": [
    {
     "name": "stdout",
     "output_type": "stream",
     "text": [
      "['Muneeb', 'Ali', 'Farrukh', 1, False, 'Nazir']\n"
     ]
    }
   ],
   "source": [
    "arr.append(\"Nazir\")\n",
    "print(arr)"
   ]
  },
  {
   "cell_type": "code",
   "execution_count": 18,
   "metadata": {},
   "outputs": [
    {
     "name": "stdout",
     "output_type": "stream",
     "text": [
      "['Muneeb', 'Ali', 'Farrukh', 1, False, 'Nazir', 'MR', 'Miss']\n"
     ]
    }
   ],
   "source": [
    "arr1  = arr + [\"MR\",\"Miss\"]\n",
    "print(arr1)"
   ]
  },
  {
   "cell_type": "code",
   "execution_count": 19,
   "metadata": {},
   "outputs": [
    {
     "name": "stdout",
     "output_type": "stream",
     "text": [
      "['Muneeb', 'Ali', 19, 'Farrukh', 1, False, 'Nazir', 'MR', 'Miss']\n"
     ]
    }
   ],
   "source": [
    "arr1.insert(2,19)\n",
    "print(arr1)"
   ]
  },
  {
   "cell_type": "code",
   "execution_count": 23,
   "metadata": {},
   "outputs": [
    {
     "name": "stdout",
     "output_type": "stream",
     "text": [
      "['Muneeb', 'Ali', 19, 'Farrukh', 1, True, True, 'MR', 'Miss']\n"
     ]
    }
   ],
   "source": [
    "arr1[5] = True\n",
    "print(arr1)"
   ]
  },
  {
   "cell_type": "code",
   "execution_count": 24,
   "metadata": {},
   "outputs": [
    {
     "name": "stdout",
     "output_type": "stream",
     "text": [
      "['Muneeb', 'Ali', 19, 'Farrukh', 1, True, 'Nazir', True, 'MR', 'Miss']\n"
     ]
    }
   ],
   "source": [
    "arr1.insert(6,\"Nazir\")\n",
    "print(arr1)"
   ]
  },
  {
   "cell_type": "code",
   "execution_count": null,
   "metadata": {},
   "outputs": [],
   "source": [
    "eng = int(input(\"Enter your Eng numbers out of 100\"))\n",
    "urdu = int(input(\"Enter your Urdu numbers out of 100\"))\n",
    "isl = int(input(\"Enter your Isl numbers out of 50\"))\n",
    "phy = int(input(\"Enter your Phy numbers out of 100\"))\n",
    "math = int(input(\"Enter your Math numbers out of 100\"))\n",
    "total_numbers = eng + urdu + isl + phy + math\n",
    "percentage = (total_numbers / 450) * 100\n",
    "print(\"percentage\")\n"
   ]
  },
  {
   "cell_type": "code",
   "execution_count": null,
   "metadata": {},
   "outputs": [],
   "source": [
    "eng = int(input(\"Enter your Eng numbers out of 100\"))\n",
    "urdu = int(input(\"Enter your Urdu numbers out of 100\"))\n",
    "isl = int(input(\"Enter your Isl numbers out of 50\"))\n",
    "phy = int(input(\"Enter your Phy numbers out of 100\"))\n",
    "math = int(input(\"Enter your Math numbers out of 100\"))\n",
    "total_numbers = eng + urdu + isl + phy + math\n",
    "percentage = (total_numbers / 450) * 100\n",
    "print(\"percentage\")"
   ]
  },
  {
   "cell_type": "code",
   "execution_count": null,
   "metadata": {},
   "outputs": [],
   "source": []
  }
 ],
 "metadata": {
  "kernelspec": {
   "display_name": "Python 3",
   "language": "python",
   "name": "python3"
  },
  "language_info": {
   "codemirror_mode": {
    "name": "ipython",
    "version": 3
   },
   "file_extension": ".py",
   "mimetype": "text/x-python",
   "name": "python",
   "nbconvert_exporter": "python",
   "pygments_lexer": "ipython3",
   "version": "3.7.4"
  }
 },
 "nbformat": 4,
 "nbformat_minor": 2
}
