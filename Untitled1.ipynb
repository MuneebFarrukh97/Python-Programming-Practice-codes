{
 "cells": [
  {
   "cell_type": "code",
   "execution_count": 1,
   "metadata": {},
   "outputs": [
    {
     "name": "stdout",
     "output_type": "stream",
     "text": [
      "('Muneeb', 'Farrukh', 'Ali', 2, False)\n"
     ]
    }
   ],
   "source": [
    "tp = (\"Muneeb\", \"Farrukh\",\"Ali\",2,False)\n",
    "print(tp)"
   ]
  },
  {
   "cell_type": "code",
   "execution_count": 3,
   "metadata": {},
   "outputs": [
    {
     "name": "stdout",
     "output_type": "stream",
     "text": [
      "Farrukh\n"
     ]
    }
   ],
   "source": [
    "tp[1]\n",
    "print(tp[1])"
   ]
  },
  {
   "cell_type": "code",
   "execution_count": 6,
   "metadata": {},
   "outputs": [
    {
     "name": "stdout",
     "output_type": "stream",
     "text": [
      "enter yoyr cityLahore\n",
      "it is not in lit of pakistan famous cities\n"
     ]
    }
   ],
   "source": [
    "list_pakistan_famous_cities= [\"Karachi\",\"Lahore\",\"Islamabad\",\"Peshwar\",\"Quetta\"]\n",
    "your_city = input(\"enter yoyr city\")\n",
    "for hometown in list_pakistan_famous_cities:\n",
    "    if hometown == your_city:\n",
    "        print(\"its one of pakstan's famous cities\")\n",
    "    else:\n",
    "        print(\"it is not in list of pakistan famous cities\")\n",
    "        break\n",
    "    \n"
   ]
  },
  {
   "cell_type": "code",
   "execution_count": 11,
   "metadata": {},
   "outputs": [
    {
     "name": "stdout",
     "output_type": "stream",
     "text": [
      "['Harris Farrukh Nazir']\n",
      "['Harris Farrukh Nazir', 'Muneeb Farrukh Nazir']\n",
      "['Harris Farrukh Nazir', 'Muneeb Farrukh Nazir', 'Tubaa Farrukh Nazir']\n",
      "['Harris Farrukh Nazir', 'Muneeb Farrukh Nazir', 'Tubaa Farrukh Nazir', 'Arooba Farrukh Nazir']\n"
     ]
    }
   ],
   "source": [
    "my_family_memebers_first_name = [\"Harris\",\"Muneeb\",\"Tubaa\",\"Arooba\"]\n",
    "my_family_memebers_last_name = [\"Farrukh Nazir\"]\n",
    "my_family_memebers_full_name = []\n",
    "for first_name in my_family_memebers_first_name:\n",
    "    for last_name in my_family_memebers_last_name:\n",
    "        my_family_memebers_full_name.append(first_name + \" \" + last_name)\n",
    "        print(my_family_memebers_full_name)"
   ]
  },
  {
   "cell_type": "code",
   "execution_count": 12,
   "metadata": {},
   "outputs": [
    {
     "name": "stdout",
     "output_type": "stream",
     "text": [
      "MUNEEB\n"
     ]
    }
   ],
   "source": [
    "a = \"MuNEeb\"\n",
    "print(a.upper())"
   ]
  },
  {
   "cell_type": "code",
   "execution_count": 13,
   "metadata": {},
   "outputs": [
    {
     "name": "stdout",
     "output_type": "stream",
     "text": [
      "muneeb\n"
     ]
    }
   ],
   "source": [
    "a = \"MuNEeb\"\n",
    "print(a.lower())"
   ]
  },
  {
   "cell_type": "code",
   "execution_count": 14,
   "metadata": {},
   "outputs": [
    {
     "name": "stdout",
     "output_type": "stream",
     "text": [
      "Muneeb\n"
     ]
    }
   ],
   "source": [
    "a = \"MuNEeb\"\n",
    "print(a.title())"
   ]
  },
  {
   "cell_type": "code",
   "execution_count": 16,
   "metadata": {},
   "outputs": [
    {
     "name": "stdout",
     "output_type": "stream",
     "text": [
      "36-B\n"
     ]
    }
   ],
   "source": [
    "PGS = {\"branch 1\": \"landhi\",\n",
    "      \"branch 2\" : \"gulshan\",\n",
    "      \"branch 3\" : \"N nazimabad\",\n",
    "      \"branch 4\" : \"36-B\"}\n",
    "print(PGS[\"branch 4\"])"
   ]
  },
  {
   "cell_type": "code",
   "execution_count": 17,
   "metadata": {},
   "outputs": [
    {
     "name": "stdout",
     "output_type": "stream",
     "text": [
      "{'branch 1': 'landhi', 'branch 2': 'gulshan', 'branch 3': 'N nazimabad'}\n"
     ]
    }
   ],
   "source": [
    "del PGS[\"branch 4\"]\n",
    "print(PGS)"
   ]
  },
  {
   "cell_type": "code",
   "execution_count": 19,
   "metadata": {},
   "outputs": [
    {
     "name": "stdout",
     "output_type": "stream",
     "text": [
      "branch 1\n",
      "branch 2\n",
      "branch 3\n",
      "landhi\n",
      "gulshan\n",
      "N nazimabad\n"
     ]
    }
   ],
   "source": [
    "for branch in PGS.keys():\n",
    "    print(branch)\n",
    "for branch in PGS.values():\n",
    "    print(branch)"
   ]
  },
  {
   "cell_type": "code",
   "execution_count": 23,
   "metadata": {},
   "outputs": [
    {
     "name": "stdout",
     "output_type": "stream",
     "text": [
      "PGS branch 1 is in landhi\n",
      "PGS branch 2 is in gulshan\n",
      "PGS branch 3 is in N nazimabad\n"
     ]
    }
   ],
   "source": [
    "for keys,values in PGS.items():\n",
    "    print(\"PGS\" + \" \" + keys + \" \" + \"is in\" + \" \" + values)"
   ]
  },
  {
   "cell_type": "code",
   "execution_count": 25,
   "metadata": {},
   "outputs": [
    {
     "name": "stdout",
     "output_type": "stream",
     "text": [
      "{'branch 1': 'landhi', 'branch 2': 'gulshan', 'branch 3': 'N nazimabad', 'Branch 4': 'P.E.C.H.S', 'branch 4': 'P.E.C.H.S'}\n"
     ]
    }
   ],
   "source": [
    "PGS[\"branch 4\"] = \"P.E.C.H.S\"\n",
    "print(PGS)"
   ]
  },
  {
   "cell_type": "code",
   "execution_count": 26,
   "metadata": {},
   "outputs": [
    {
     "data": {
      "text/plain": [
       "{'branch 1': 'landhi',\n",
       " 'branch 2': 'gulshan',\n",
       " 'branch 3': 'N nazimabad',\n",
       " 'Branch 4': 'P.E.C.H.S',\n",
       " 'branch 4': 'P.E.C.H.S'}"
      ]
     },
     "execution_count": 26,
     "metadata": {},
     "output_type": "execute_result"
    }
   ],
   "source": [
    "PGS"
   ]
  },
  {
   "cell_type": "code",
   "execution_count": 27,
   "metadata": {},
   "outputs": [
    {
     "name": "stdout",
     "output_type": "stream",
     "text": [
      "{'branch 1': 'landhi', 'branch 2': 'gulshan', 'branch 3': 'N nazimabad', 'branch 4': 'P.E.C.H.S'}\n"
     ]
    }
   ],
   "source": [
    "del PGS[\"Branch 4\"]\n",
    "print(PGS)"
   ]
  },
  {
   "cell_type": "code",
   "execution_count": 29,
   "metadata": {
    "scrolled": true
   },
   "outputs": [
    {
     "name": "stdout",
     "output_type": "stream",
     "text": [
      "Enter first integer8\n",
      "Enter second integer2\n",
      "Enter operator/\n",
      "4\n"
     ]
    }
   ],
   "source": [
    "val_1 = int(input(\"Enter first integer\"))\n",
    "val_2 = int(input(\"Enter second integer\"))\n",
    "operator = input(\"Enter operator\")\n",
    "if operator == \"+\":\n",
    "    val = val_1 + val_2\n",
    "    print(val)\n",
    "elif operator == \"-\":\n",
    "    val = val_1 - val_2\n",
    "    print(val)\n",
    "elif operator == \"*\":\n",
    "    val = val_1 * val_2\n",
    "    print(val)\n",
    "elif operator == \"/\":\n",
    "    val = val_1 // val_2\n",
    "    print(val)\n",
    "else:\n",
    "    print(\"Not acceptable integer\")"
   ]
  },
  {
   "cell_type": "code",
   "execution_count": 11,
   "metadata": {},
   "outputs": [
    {
     "name": "stdout",
     "output_type": "stream",
     "text": [
      "4\n"
     ]
    }
   ],
   "source": [
    "questions = [{\"S No\" : 1,\n",
    "              \"Question\" : \"What is the result of 1 + 1?\",\n",
    "              \"Options\" : [\"2\",\"3\",\"4\",\"5\"],\n",
    "              \"Answer\" : \"2\"\n",
    "             },\n",
    "             \n",
    "             \n",
    "             \n",
    "             {\"S No\" : 2,\n",
    "              \"Question\" : \"What is the result of 2 + 1?\",\n",
    "              \"Options\" : [\"2\",\"3\",\"4\",\"5\"],\n",
    "              \"Answer\" : \"3\"\n",
    "             },\n",
    "             \n",
    "             \n",
    "             \n",
    "             {\"S No\" : 3,\n",
    "              \"Question\" : \"What is the result of 2 + 2?\",\n",
    "              \"Options\" : [\"2\",\"3\",\"4\",\"5\"],\n",
    "              \"Answer\" : \"4\"\n",
    "             }\n",
    "]\n",
    "\n",
    "\n",
    "print(questions[1][\"Options\"][2])"
   ]
  },
  {
   "cell_type": "code",
   "execution_count": 13,
   "metadata": {},
   "outputs": [
    {
     "name": "stdout",
     "output_type": "stream",
     "text": [
      "[{'S No': 1, 'Question': 'What is the result of 1 + 1?', 'Options': ['2', '3', '4', '5'], 'Answer': '2'}, {'S No': 2, 'Question': 'What is the result of 2 + 1?', 'Options': ['2', '3', '4', '5'], 'Answer': '3'}, {'S No': 3, 'Question': 'What is the result of 2 + 2?', 'Options': ['2', '3', '4', '5'], 'Answer': '4'}, {'S.No': 1, 'Question': 'What is the result of 1 + 1?', 'Options': ['2', '3', '4', '5'], 'Answer': '2'}, {'S.No': 1, 'Question': 'What is the result of 1 + 1?', 'Options': ['2', '3', '4', '5'], 'Answer': '2'}]\n"
     ]
    }
   ],
   "source": [
    "new_question = {\"S.No\" : 1,\n",
    "              \"Question\" : \"What is the result of 1 + 1?\",\n",
    "              \"Options\" : [\"2\",\"3\",\"4\",\"5\"],\n",
    "              \"Answer\" : \"2\"\n",
    "               \n",
    "               }\n",
    "\n",
    "questions.append(new_question)\n",
    "print(questions)"
   ]
  },
  {
   "cell_type": "code",
   "execution_count": 15,
   "metadata": {},
   "outputs": [
    {
     "name": "stdout",
     "output_type": "stream",
     "text": [
      "{'Question': 'What is the result of 1 + 1?', 'Options': ['2', '3', '4', '5'], 'Answer': '2'}\n"
     ]
    }
   ],
   "source": [
    "math ={\n",
    "    0 : {\n",
    "        \"Question\" : \"What is the result of 1 + 1?\",\n",
    "        \"Options\" : [\"2\",\"3\",\"4\",\"5\"],\n",
    "        \"Answer\" : \"2\"\n",
    "    },\n",
    "    \n",
    "    1 : {\n",
    "        \"Question\" : \"What is the result of 1 + 2?\",\n",
    "        \"Options\" : [\"2\",\"3\",\"4\",\"5\"],\n",
    "        \"Answer\" : \"3\"\n",
    "    },\n",
    "    \n",
    "    \n",
    "}\n",
    "print(math[0])"
   ]
  },
  {
   "cell_type": "code",
   "execution_count": 9,
   "metadata": {},
   "outputs": [
    {
     "name": "stdout",
     "output_type": "stream",
     "text": [
      "1What is the result of 1 + 1?\n",
      "a:2\n",
      "b:3\n",
      "c:4\n",
      "d:5\n",
      "2\n",
      "2What is the result of 1 + 4?\n",
      "a:2\n",
      "b:3\n",
      "c:4\n",
      "d:5\n",
      "6\n",
      "3What is the result of 1 + 2?\n",
      "a:2\n",
      "b:3\n",
      "c:4\n",
      "d:5\n",
      "3\n",
      "your score is :2\n"
     ]
    }
   ],
   "source": [
    "questions = [\n",
    "    {   \"S no\" : 1,\n",
    "        \"question\" : \"What is the result of 1 + 1?\",\n",
    "        \"options\" : [\"2\",\"3\",\"4\",\"5\"],\n",
    "        \"answer\" : \"2\"\n",
    "    },\n",
    "    {   \"S no\" : 2,\n",
    "        \"question\" : \"What is the result of 1 + 4?\",\n",
    "        \"options\" : [\"2\",\"3\",\"4\",\"5\"],\n",
    "        \"answer\" : \"5\"\n",
    "    },\n",
    "    {   \"S no\" : 3,\n",
    "        \"question\" : \"What is the result of 1 + 2?\",\n",
    "        \"options\" : [\"2\",\"3\",\"4\",\"5\"],\n",
    "        \"answer\" : \"3\"\n",
    "    }\n",
    "]\n",
    "\n",
    "score = 0\n",
    "\n",
    "\n",
    "for marks in questions:\n",
    "    data = str(marks[\"S no\"]) + marks[\"question\"] + \"\\n\"  + \"a:\"+ marks[\"options\"][0]+ \"\\n\" + \"b:\"  + marks[\"options\"][1] + \"\\n\"  + \"c:\" +  marks[\"options\"][2] + \"\\n\"  + \"d:\" +  marks[\"options\"][3] + \"\\n\"\n",
    "    answer = input(data)\n",
    "    if answer == marks[\"answer\"]:\n",
    "        score += 1\n",
    "        \n",
    "print(\"your score is :\" + str(score))        "
   ]
  },
  {
   "cell_type": "code",
   "execution_count": 11,
   "metadata": {},
   "outputs": [
    {
     "name": "stdout",
     "output_type": "stream",
     "text": [
      "30\n"
     ]
    }
   ],
   "source": [
    "def addition():\n",
    "    num_1 = 10\n",
    "    num_2 = 20\n",
    "    total = num_1 + num_2\n",
    "    print(total)\n",
    "    \n",
    "addition()"
   ]
  },
  {
   "cell_type": "code",
   "execution_count": null,
   "metadata": {},
   "outputs": [],
   "source": []
  }
 ],
 "metadata": {
  "kernelspec": {
   "display_name": "Python 3",
   "language": "python",
   "name": "python3"
  },
  "language_info": {
   "codemirror_mode": {
    "name": "ipython",
    "version": 3
   },
   "file_extension": ".py",
   "mimetype": "text/x-python",
   "name": "python",
   "nbconvert_exporter": "python",
   "pygments_lexer": "ipython3",
   "version": "3.7.4"
  }
 },
 "nbformat": 4,
 "nbformat_minor": 2
}
