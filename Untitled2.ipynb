{
 "cells": [
  {
   "cell_type": "code",
   "execution_count": 3,
   "metadata": {},
   "outputs": [
    {
     "name": "stdout",
     "output_type": "stream",
     "text": [
      "['BlueRay  Zzz']\n",
      "['BlueRay  Zzz', 'BlueRay  Burp']\n",
      "['BlueRay  Zzz', 'BlueRay  Burp', 'BlueRay  Dogbone']\n",
      "['BlueRay  Zzz', 'BlueRay  Burp', 'BlueRay  Dogbone', 'BlueRay  Droop']\n",
      "['BlueRay  Zzz', 'BlueRay  Burp', 'BlueRay  Dogbone', 'BlueRay  Droop', 'Upchuck  Zzz']\n",
      "['BlueRay  Zzz', 'BlueRay  Burp', 'BlueRay  Dogbone', 'BlueRay  Droop', 'Upchuck  Zzz', 'Upchuck  Burp']\n",
      "['BlueRay  Zzz', 'BlueRay  Burp', 'BlueRay  Dogbone', 'BlueRay  Droop', 'Upchuck  Zzz', 'Upchuck  Burp', 'Upchuck  Dogbone']\n",
      "['BlueRay  Zzz', 'BlueRay  Burp', 'BlueRay  Dogbone', 'BlueRay  Droop', 'Upchuck  Zzz', 'Upchuck  Burp', 'Upchuck  Dogbone', 'Upchuck  Droop']\n",
      "['BlueRay  Zzz', 'BlueRay  Burp', 'BlueRay  Dogbone', 'BlueRay  Droop', 'Upchuck  Zzz', 'Upchuck  Burp', 'Upchuck  Dogbone', 'Upchuck  Droop', 'Lojack  Zzz']\n",
      "['BlueRay  Zzz', 'BlueRay  Burp', 'BlueRay  Dogbone', 'BlueRay  Droop', 'Upchuck  Zzz', 'Upchuck  Burp', 'Upchuck  Dogbone', 'Upchuck  Droop', 'Lojack  Zzz', 'Lojack  Burp']\n",
      "['BlueRay  Zzz', 'BlueRay  Burp', 'BlueRay  Dogbone', 'BlueRay  Droop', 'Upchuck  Zzz', 'Upchuck  Burp', 'Upchuck  Dogbone', 'Upchuck  Droop', 'Lojack  Zzz', 'Lojack  Burp', 'Lojack  Dogbone']\n",
      "['BlueRay  Zzz', 'BlueRay  Burp', 'BlueRay  Dogbone', 'BlueRay  Droop', 'Upchuck  Zzz', 'Upchuck  Burp', 'Upchuck  Dogbone', 'Upchuck  Droop', 'Lojack  Zzz', 'Lojack  Burp', 'Lojack  Dogbone', 'Lojack  Droop']\n",
      "['BlueRay  Zzz', 'BlueRay  Burp', 'BlueRay  Dogbone', 'BlueRay  Droop', 'Upchuck  Zzz', 'Upchuck  Burp', 'Upchuck  Dogbone', 'Upchuck  Droop', 'Lojack  Zzz', 'Lojack  Burp', 'Lojack  Dogbone', 'Lojack  Droop', 'Gizmo  Zzz']\n",
      "['BlueRay  Zzz', 'BlueRay  Burp', 'BlueRay  Dogbone', 'BlueRay  Droop', 'Upchuck  Zzz', 'Upchuck  Burp', 'Upchuck  Dogbone', 'Upchuck  Droop', 'Lojack  Zzz', 'Lojack  Burp', 'Lojack  Dogbone', 'Lojack  Droop', 'Gizmo  Zzz', 'Gizmo  Burp']\n",
      "['BlueRay  Zzz', 'BlueRay  Burp', 'BlueRay  Dogbone', 'BlueRay  Droop', 'Upchuck  Zzz', 'Upchuck  Burp', 'Upchuck  Dogbone', 'Upchuck  Droop', 'Lojack  Zzz', 'Lojack  Burp', 'Lojack  Dogbone', 'Lojack  Droop', 'Gizmo  Zzz', 'Gizmo  Burp', 'Gizmo  Dogbone']\n",
      "['BlueRay  Zzz', 'BlueRay  Burp', 'BlueRay  Dogbone', 'BlueRay  Droop', 'Upchuck  Zzz', 'Upchuck  Burp', 'Upchuck  Dogbone', 'Upchuck  Droop', 'Lojack  Zzz', 'Lojack  Burp', 'Lojack  Dogbone', 'Lojack  Droop', 'Gizmo  Zzz', 'Gizmo  Burp', 'Gizmo  Dogbone', 'Gizmo  Droop']\n",
      "['BlueRay  Zzz', 'BlueRay  Burp', 'BlueRay  Dogbone', 'BlueRay  Droop', 'Upchuck  Zzz', 'Upchuck  Burp', 'Upchuck  Dogbone', 'Upchuck  Droop', 'Lojack  Zzz', 'Lojack  Burp', 'Lojack  Dogbone', 'Lojack  Droop', 'Gizmo  Zzz', 'Gizmo  Burp', 'Gizmo  Dogbone', 'Gizmo  Droop', 'Do-Rag  Zzz']\n",
      "['BlueRay  Zzz', 'BlueRay  Burp', 'BlueRay  Dogbone', 'BlueRay  Droop', 'Upchuck  Zzz', 'Upchuck  Burp', 'Upchuck  Dogbone', 'Upchuck  Droop', 'Lojack  Zzz', 'Lojack  Burp', 'Lojack  Dogbone', 'Lojack  Droop', 'Gizmo  Zzz', 'Gizmo  Burp', 'Gizmo  Dogbone', 'Gizmo  Droop', 'Do-Rag  Zzz', 'Do-Rag  Burp']\n",
      "['BlueRay  Zzz', 'BlueRay  Burp', 'BlueRay  Dogbone', 'BlueRay  Droop', 'Upchuck  Zzz', 'Upchuck  Burp', 'Upchuck  Dogbone', 'Upchuck  Droop', 'Lojack  Zzz', 'Lojack  Burp', 'Lojack  Dogbone', 'Lojack  Droop', 'Gizmo  Zzz', 'Gizmo  Burp', 'Gizmo  Dogbone', 'Gizmo  Droop', 'Do-Rag  Zzz', 'Do-Rag  Burp', 'Do-Rag  Dogbone']\n",
      "['BlueRay  Zzz', 'BlueRay  Burp', 'BlueRay  Dogbone', 'BlueRay  Droop', 'Upchuck  Zzz', 'Upchuck  Burp', 'Upchuck  Dogbone', 'Upchuck  Droop', 'Lojack  Zzz', 'Lojack  Burp', 'Lojack  Dogbone', 'Lojack  Droop', 'Gizmo  Zzz', 'Gizmo  Burp', 'Gizmo  Dogbone', 'Gizmo  Droop', 'Do-Rag  Zzz', 'Do-Rag  Burp', 'Do-Rag  Dogbone', 'Do-Rag  Droop']\n"
     ]
    }
   ],
   "source": [
    "first_names = [\"BlueRay \", \"Upchuck \", \"Lojack \",\"Gizmo \", \"Do-Rag \"]\n",
    "last_names = [\"Zzz\", \"Burp\", \"Dogbone\", \"Droop\"]\n",
    "full_names = []\n",
    "for a_first_name in first_names:\n",
    "    for a_last_name in last_names:\n",
    "        full_names.append(a_first_name + \" \" + a_last_name)\n",
    "        print(full_names)\n"
   ]
  },
  {
   "cell_type": "code",
   "execution_count": 5,
   "metadata": {},
   "outputs": [
    {
     "name": "stdout",
     "output_type": "stream",
     "text": [
      "1015\n"
     ]
    }
   ],
   "source": [
    "a = 10\n",
    "b = str(a)\n",
    "c = str(15)\n",
    "d = b + c\n",
    "print(d)"
   ]
  },
  {
   "cell_type": "code",
   "execution_count": 1,
   "metadata": {},
   "outputs": [
    {
     "name": "stdout",
     "output_type": "stream",
     "text": [
      "('saleem', 'Haroon', 'Muneeb')\n"
     ]
    }
   ],
   "source": [
    "tp = (\"saleem\",\"Haroon\",\"Muneeb\")\n",
    "print(tp)"
   ]
  },
  {
   "cell_type": "code",
   "execution_count": 2,
   "metadata": {},
   "outputs": [
    {
     "data": {
      "text/plain": [
       "'Haroon'"
      ]
     },
     "execution_count": 2,
     "metadata": {},
     "output_type": "execute_result"
    }
   ],
   "source": [
    "tp[1]"
   ]
  },
  {
   "cell_type": "code",
   "execution_count": 3,
   "metadata": {},
   "outputs": [
    {
     "name": "stdout",
     "output_type": "stream",
     "text": [
      "Enter city namelahore\n",
      "it;s not a pakitan's cleanest city\n"
     ]
    }
   ],
   "source": [
    "val = [\"karachi\",\"peshwar\",\"lahore\",\"Islamabad\"]\n",
    "val_to_check = input(\"Enter city name\")\n",
    "for city_name in val:\n",
    "    if city_name == val_to_check:\n",
    "        print(\"it's one of the cleanest cities of Pakistan\")\n",
    "    else:\n",
    "        print(\"it;s not a pakitan's cleanest city\")\n",
    "        break\n",
    "        "
   ]
  },
  {
   "cell_type": "code",
   "execution_count": null,
   "metadata": {},
   "outputs": [],
   "source": [
    "customer_29876 = {\"first name\": \"David\", \"last\n",
    "name\": \"Elliott\", \"address\": \"4803 Wellesley St.\"}"
   ]
  },
  {
   "cell_type": "code",
   "execution_count": 8,
   "metadata": {},
   "outputs": [
    {
     "name": "stdout",
     "output_type": "stream",
     "text": [
      "House #5 , Street #6 , Area 37-A , Landhi #3 , Karachi.\n"
     ]
    }
   ],
   "source": [
    "customer = {\"first name\" : \"Muneeb\" ,\n",
    "           \"last name\" : \"Farrukh\" ,\n",
    "           \"address\" : \"House #5 , Street #6 , Area 37-A , Landhi #3 , Karachi.\"\n",
    "           }\n",
    "print(customer[\"address\"])"
   ]
  },
  {
   "cell_type": "code",
   "execution_count": 14,
   "metadata": {},
   "outputs": [
    {
     "name": "stdout",
     "output_type": "stream",
     "text": [
      "House #5 , Street #6 , Area 37-A , Landhi #3 , Karachi.\n"
     ]
    }
   ],
   "source": [
    "customer_1 = {1 : \"Muneeb\" ,\n",
    "           2 : \"Farrukh\" ,\n",
    "           3 : \"House #5 , Street #6 , Area 37-A , Landhi #3 , Karachi.\"\n",
    "           }\n",
    "print(customer_1[1])"
   ]
  },
  {
   "cell_type": "code",
   "execution_count": 17,
   "metadata": {},
   "outputs": [
    {
     "name": "stdout",
     "output_type": "stream",
     "text": [
      "16\n"
     ]
    }
   ],
   "source": [
    "things_to_remember = {0: \"the lowest number\",\n",
    "                      \"a dozen\" : 12,\n",
    "                      \"snake eyes\" : \"a pair of ones\",\n",
    "                      13 : 16\n",
    "                     }\n",
    "print(things_to_remember[13])\n"
   ]
  },
  {
   "cell_type": "code",
   "execution_count": 18,
   "metadata": {},
   "outputs": [
    {
     "name": "stdout",
     "output_type": "stream",
     "text": [
      "{'first name': 'Muneeb', 'last name': 'Farrukh', 'address': 'House #5 , Street #6 , Area 37-A , Landhi #3 , Karachi.', 'language': 'Urdu'}\n"
     ]
    }
   ],
   "source": [
    "customer = {\"first name\" : \"Muneeb\" ,\n",
    "           \"last name\" : \"Farrukh\" ,\n",
    "           \"address\" : \"House #5 , Street #6 , Area 37-A , Landhi #3 , Karachi.\"\n",
    "           }\n",
    "customer[\"language\"] = \"Urdu\"\n",
    "print(customer)"
   ]
  },
  {
   "cell_type": "code",
   "execution_count": 19,
   "metadata": {},
   "outputs": [
    {
     "name": "stdout",
     "output_type": "stream",
     "text": [
      "{'first name': 'Muneeb', 'last name': 'Farrukh', 'language': 'Urdu'}\n"
     ]
    }
   ],
   "source": [
    "del customer[\"address\"]\n",
    "print(customer)"
   ]
  },
  {
   "cell_type": "code",
   "execution_count": 31,
   "metadata": {},
   "outputs": [
    {
     "name": "stdout",
     "output_type": "stream",
     "text": [
      "first name\n",
      "last name\n",
      "language\n",
      "Muneeb\n",
      "Farrukh\n",
      "Urdu\n"
     ]
    }
   ],
   "source": [
    "for candidate_info in customer.keys():\n",
    "    print(candidate_info)\n",
    "for candidate_info in customer.values():\n",
    "    print(candidate_info)"
   ]
  },
  {
   "cell_type": "code",
   "execution_count": 35,
   "metadata": {},
   "outputs": [
    {
     "name": "stdout",
     "output_type": "stream",
     "text": [
      "Candidate's first name is Muneeb\n",
      "Candidate's last name is Farrukh\n",
      "Candidate's language is Urdu\n"
     ]
    }
   ],
   "source": [
    "for each_key , each_value in customer.items():\n",
    "    print(\"Candidate's\" + \" \" + each_key + \" \" + \"is\" + \" \" + each_value)"
   ]
  },
  {
   "cell_type": "code",
   "execution_count": 2,
   "metadata": {},
   "outputs": [
    {
     "name": "stdout",
     "output_type": "stream",
     "text": [
      "[{'Q.no_1': 'What is first letter of your name?', 'Options': ['A', 'B', 'C', 'D'], 'correct_answer': 'A'}, {'Q.no_2': \"What is first letter of your father's name?\", 'Options': ['A', 'B', 'C', 'D'], 'correct_answer': 'A'}, {'Q.no_3': 'What is first age?', 'Options': ['A', 'B', 'C', 'D'], 'correct_answer': 'C'}]\n"
     ]
    }
   ],
   "source": [
    "info = [{\"Q.no_1\" : \"What is first letter of your name?\",\n",
    "         \"Options\" :[\"A\",\"B\",\"C\",\"D\"],\n",
    "         \"correct_answer\" : \"A\"\n",
    "        },\n",
    "        \n",
    "        \n",
    "        \n",
    "        {\"Q.no_2\" : \"What is first letter of your father's name?\",\n",
    "         \"Options\" :[\"A\",\"B\",\"C\",\"D\"],\n",
    "         \"correct_answer\" : \"A\"\n",
    "        },\n",
    "        \n",
    "        \n",
    "        {\"Q.no_3\" : \"What is first age?\",\n",
    "         \"Options\" :[\"A\",\"B\",\"C\",\"D\"],\n",
    "         \"correct_answer\" : \"C\"\n",
    "        }\n",
    "        \n",
    "       ]\n",
    "print(info)"
   ]
  },
  {
   "cell_type": "code",
   "execution_count": 4,
   "metadata": {},
   "outputs": [
    {
     "name": "stdout",
     "output_type": "stream",
     "text": [
      "[{'Q.no_1': 'What is first letter of your name?', 'Options': ['A', 'B', 'C', 'D'], 'correct_answer': 'A'}, {'Q.no_2': \"What is first letter of your father's name?\", 'Options': ['A', 'B', 'C', 'D'], 'correct_answer': 'A'}, {'Q.no_3': 'What is first age?', 'Options': ['A', 'B', 'C', 'D'], 'correct_answer': 'C'}, {'Q.no_1': 'What is age of your father?', 'Options': ['A', 'B', 'C', 'D'], 'correct_answer': 'D'}]\n"
     ]
    }
   ],
   "source": [
    "info_new = {\"Q_no_1\" : \"What is age of your father?\",\n",
    "         \"Options\" :[\"A\",\"B\",\"C\",\"D\"],\n",
    "         \"correct_answer\" : \"D\"\n",
    "           }\n",
    "info.append(info_new)\n",
    "print(info)"
   ]
  },
  {
   "cell_type": "code",
   "execution_count": 5,
   "metadata": {},
   "outputs": [
    {
     "name": "stdout",
     "output_type": "stream",
     "text": [
      "{'Q.no_1': 'What is first letter of your name?', 'Options': ['A', 'B', 'C', 'D'], 'correct_answer': 'A'}\n"
     ]
    }
   ],
   "source": [
    "print(info[0])"
   ]
  },
  {
   "cell_type": "code",
   "execution_count": 7,
   "metadata": {},
   "outputs": [
    {
     "name": "stdout",
     "output_type": "stream",
     "text": [
      "What is first letter of your name?\n"
     ]
    }
   ],
   "source": [
    "print(info[0][\"Q.no_1\"])"
   ]
  },
  {
   "cell_type": "code",
   "execution_count": 3,
   "metadata": {},
   "outputs": [
    {
     "name": "stdout",
     "output_type": "stream",
     "text": [
      "105\n"
     ]
    }
   ],
   "source": [
    "a = 10\n",
    "b = str(5)\n",
    "c = str(a) + str(b)\n",
    "print(c)"
   ]
  },
  {
   "cell_type": "code",
   "execution_count": 4,
   "metadata": {},
   "outputs": [
    {
     "name": "stdout",
     "output_type": "stream",
     "text": [
      "42\n"
     ]
    }
   ],
   "source": [
    "a = 10\n",
    "b = 32\n",
    "c = a + b\n",
    "print(c)"
   ]
  },
  {
   "cell_type": "raw",
   "metadata": {},
   "source": []
  },
  {
   "cell_type": "code",
   "execution_count": 7,
   "metadata": {},
   "outputs": [
    {
     "name": "stdout",
     "output_type": "stream",
     "text": [
      "['Salman ali']\n",
      "['Salman ali', 'Haroon ali']\n",
      "['Salman ali', 'Haroon ali', 'Rasheed ali']\n",
      "['Salman ali', 'Haroon ali', 'Rasheed ali', 'Zafar ali']\n"
     ]
    }
   ],
   "source": [
    "first_name = [\"Salman\",\"Haroon\",\"Rasheed\",\"Zafar\"]\n",
    "last_name = [\"ali\"]\n",
    "full_name = []\n",
    "for fi_name in first_name:\n",
    "    for la_name in last_name:\n",
    "        full_name.append(fi_name + \" \" + la_name)\n",
    "        print(full_name)\n",
    "        break"
   ]
  },
  {
   "cell_type": "code",
   "execution_count": 10,
   "metadata": {},
   "outputs": [
    {
     "ename": "SyntaxError",
     "evalue": "invalid syntax (<ipython-input-10-831b3a0f6658>, line 5)",
     "output_type": "error",
     "traceback": [
      "\u001b[1;36m  File \u001b[1;32m\"<ipython-input-10-831b3a0f6658>\"\u001b[1;36m, line \u001b[1;32m5\u001b[0m\n\u001b[1;33m    \"Answer\" : \"Islamabad\"\u001b[0m\n\u001b[1;37m           ^\u001b[0m\n\u001b[1;31mSyntaxError\u001b[0m\u001b[1;31m:\u001b[0m invalid syntax\n"
     ]
    }
   ],
   "source": [
    "questions = [{\n",
    "            \"S.no\" : 1,\n",
    "            \"Question\" : \"what is the capital city of Pakistan?\",\n",
    "            \"Options\" : [\"Karachi\", \"Islamabad\" , \"Lahore\" , \"Quetta\",]\n",
    "            \"Answer\" : \"Islamabad\"\n",
    "            },\n",
    "            \n",
    "            \n",
    "            {\n",
    "            \"S.no\" : 2,\n",
    "            \"Question\" : \"what is the biggest province of Pakistan?\",\n",
    "            \"Options\" : [\"Sindh\", \"Punjab\" , \"NWFP\" , \"Balochistan\"],\n",
    "            \"Answer\" : \"Punjab\"\n",
    "            },\n",
    "    \n",
    "            {\n",
    "            \"S.no\" : 3,\n",
    "            \"Question\" : \"what is the biggest city of Pakistan?\",\n",
    "            \"Options\" : [\"Karachi\", \"Islamabad\" , \"Lahore\" , \"Quetta\"],\n",
    "            \"Answer\" : \"Karachi\"\n",
    "            \n",
    "\n",
    "}]\n",
    "\n",
    "\n",
    "print(questions)"
   ]
  },
  {
   "cell_type": "code",
   "execution_count": null,
   "metadata": {},
   "outputs": [],
   "source": []
  },
  {
   "cell_type": "code",
   "execution_count": null,
   "metadata": {},
   "outputs": [],
   "source": []
  }
 ],
 "metadata": {
  "kernelspec": {
   "display_name": "Python 3",
   "language": "python",
   "name": "python3"
  },
  "language_info": {
   "codemirror_mode": {
    "name": "ipython",
    "version": 3
   },
   "file_extension": ".py",
   "mimetype": "text/x-python",
   "name": "python",
   "nbconvert_exporter": "python",
   "pygments_lexer": "ipython3",
   "version": "3.7.4"
  }
 },
 "nbformat": 4,
 "nbformat_minor": 2
}
